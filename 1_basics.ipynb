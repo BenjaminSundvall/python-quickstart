{
 "cells": [
  {
   "cell_type": "markdown",
   "metadata": {},
   "source": [
    "# Labb 1 - Basics\n",
    "Baserat på [TDDE23 labb 1](<https://www.ida.liu.se/~TDDE23/labbar/la1/la1.shtml>). De här borde gå ganska snabbt att köra igenom :)"
   ]
  },
  {
   "cell_type": "markdown",
   "metadata": {},
   "source": []
  },
  {
   "cell_type": "markdown",
   "metadata": {},
   "source": [
    "### Del A - Hello world!\n",
    "Man kan köra python-kod på flera olika sätt. Här ska vi se till att det funkar att köra kod på din dator och samtidigt testa de tre vanligaste sätten att göra det.\n",
    "\n",
    "#### Uppgift 1. Genom kommandon i en python-interpreter\n",
    "Interpretern är ett snabbt och enkelt sätt att köra en liten mängd kod. Bra för att t.ex. testa hur en funktion i python fungerar om man är osäker. \n",
    "> **Uppgift:** Öppna en terminal genom att klicka på `Terminal > New Terminal`. Starta interpretern genom att skriva `python3` i terminalen. Printa sedan strängen \"Hello world!\". För att stänga interpretern och komma tillbaka till terminalen, tryck Ctrl+D (eller kör kommandot `exit()`).\n",
    "\n",
    "#### Uppgift 2. Genom att köra en hel python-fil\n",
    "Om man vill köra en större mängd kod blir det snabbt osmidigt att behöva skriva in all kod om och om igen. För att bara printa hello world är det kanske lite onödigt mycket jobb, men testa ändå. \n",
    "> **Uppgift:** Skapa en ny fil som heter `hello.py` genom att högerklicka i \"Explorer\"-rutan till vänster och välja `New File...`. Lägg till en rad för att printa \"Hello world!\" och kör filen genom att skriva `python3 hello.py` i terminalen.\n",
    "\n",
    "#### Uppgift 3. I en python notebook (som den här)\n",
    "Nedanför har jag gjort en kod-cell där man enkelt kan skriva och köra kod. Det här är lite best of both worlds då det är snabbt och enkelt att testköra kod i en ny cell (som i interpretern), men man behöver inte skriva om allt igen varje gång man vill köra koden (som i en fil). Jag kommer göra resten av uppgifterna i notebooks, men det går lika bra att köra koden på de andra sätten!\n",
    "> **Uppgift:** Testa att köra cellen nedanför genom att markera cellen och trycka ctrl+enter (eller klicka på play-knappen till vänster om cellen)."
   ]
  },
  {
   "cell_type": "code",
   "execution_count": null,
   "metadata": {},
   "outputs": [],
   "source": [
    "print(\"Hello world!\")"
   ]
  },
  {
   "cell_type": "markdown",
   "metadata": {},
   "source": [
    "#### Uppgift 4. Python-docs (fördjupning/överkurs) \n",
    "Python har väldigt bra dokumentation. Det kan vara lite svårt att hitta i början, men det brukar ofta vara väldigt välskrivet och tydligt när man väl lär sig. Här är söksidan där man kan söka efter information om i princip vad som helst: https://docs.python.org/3/search.html\n",
    "\n",
    "> **Extra uppgift:** Sök efter \"print\" och välj \"print (Python function, in Built-in Functions)\". Provkör koden nedan en gång och modifiera den sedan så att den printar \"1-2-3!\" istället (utan att ändra på a, b och c). Använd dokumentationen för att lista ut hur!"
   ]
  },
  {
   "cell_type": "code",
   "execution_count": null,
   "metadata": {},
   "outputs": [],
   "source": [
    "a = 1\n",
    "b, c = 2, 3     # Man kan tilldela flera variabler på samma rad om man vill :)\n",
    "print(a, b, c)"
   ]
  },
  {
   "cell_type": "markdown",
   "metadata": {},
   "source": [
    "### Del B - Funktioner\n",
    "Funktioner används hela tiden. Dels som ett sätt att strukturera koden och dels för att slippa skriva samma sak flera gånger. De tar in ett antal **argument**, gör någonting med dem, och **returnerar** sedan ett (eller flera) värden. Nedan är ett exempel på hur man **definierar** och **anropar** en funktion.\n"
   ]
  },
  {
   "cell_type": "code",
   "execution_count": null,
   "metadata": {},
   "outputs": [],
   "source": [
    "def plus(x, y):\n",
    "    return x + y\n",
    "\n",
    "plus(2, 5)  # Kör bara funktionen\n",
    "\n",
    "z = plus(2, 5)  # Kör funktionen och spara resultatet i z...\n",
    "print(z)        # ...sen kan man använda det sparade resultatet till annat, t.ex. printa...\n",
    "print(z+2)      # ...eller använda det igen i en annan beräkning\n",
    "\n",
    "\"\"\"\n",
    "Man kan också använda funktionen direkt om man inte behöver det sparade\n",
    "resultatet till något annat. Oftast är det dock snyggare/mer läsbbart att spara\n",
    "det i en variabel.\n",
    "(så här gör man multiline comments btw)\n",
    "\"\"\"\n",
    "print(plus(2, 5))"
   ]
  },
  {
   "cell_type": "markdown",
   "metadata": {},
   "source": [
    "#### Uppgift 1. max2 och max3\n",
    "> **Uppgift:** Definiera en funktion `max2` med två argument x och y som returnerar det största av argumenten. (Prova att max2 funkar innan du går vidare)\n",
    "\n",
    "Definiera sedan en funktion `max3` med tre argument x, y och z som returnerar det största av de tre argumenten. Du ska då återanvända arbetet du gjorde max2 ovan – men inte genom att skriva om koden. Låt istället max2 finnas kvar, och fundera på hur den nya funktionen max3 kan skrivas genom att anropa max2."
   ]
  },
  {
   "cell_type": "code",
   "execution_count": null,
   "metadata": {},
   "outputs": [],
   "source": [
    "# Definiera max2 här\n",
    "...\n",
    "\n",
    "# Definiera max3 här\n",
    "...\n",
    "\n",
    "# Testa max2\n",
    "print(max2(8, 4)) # Ska printa 8\n",
    "\n",
    "# Avkommentera raderna nedan för att testa max3 också!\n",
    "# print(max3(3, 7, 9)) # Ska printa 9\n",
    "# print(max3(1, 3, 2)) # Ska printa 3\n",
    "# print(max3(3, 7, 9) + max2(8, 4)) # Ska printa 17\n"
   ]
  },
  {
   "cell_type": "markdown",
   "metadata": {},
   "source": [
    "#### Uppgift 2. Dela med tre\n",
    "> **Uppgift:** Implementera funktionen `div_by_three` som tar talet n, dividerar n med 3 och skriver ut resultatet enligt exemplet nedan. Funktionen ska returnera sanningsvärdet True om resultatet ger ett heltal, annars ska den returnera False.\n",
    "\n",
    "> **Hint 1:** Jämför vad som händer om man skriver `3 / 2` och `3 // 2`. Vad är skillnaden? (Du kan göra en ny cell för att testa i genom att hålla musen på nedre kanten av den här cellen och klicka `+ Code`)\n",
    "\n",
    "> **Hint 2:** Använd `==` för att jämföra om två variabler är lika stora. (ex. `print(1 == 2)`)"
   ]
  },
  {
   "cell_type": "code",
   "execution_count": null,
   "metadata": {},
   "outputs": [],
   "source": [
    "# Definiera div_by_three här\n",
    "...\n",
    "\n",
    "is_integer = div_by_three(6) # Ska printa \"6 divided by 3 equals 2\"\n",
    "print(is_integer) # Ska printa \"True\"\n",
    "\n",
    "is_integer = div_by_three(4) # Ska printa \"8 divided by 3 equals 2.6666666666666665\"\n",
    "print(is_integer) # Ska printa \"False\""
   ]
  },
  {
   "cell_type": "markdown",
   "metadata": {},
   "source": [
    "# Klart!\n",
    "Snyggt jobbat! Du kan leka vidare med det du har lärt dig i cellen nedan om du vill :)\n",
    "\n",
    "Gå vidare till nästa del genom att öppna filen [2_ifs_and_loops.ipynb](2_ifs_and_loops.ipynb)"
   ]
  },
  {
   "cell_type": "code",
   "execution_count": null,
   "metadata": {},
   "outputs": [],
   "source": []
  }
 ],
 "metadata": {
  "kernelspec": {
   "display_name": "Python 3",
   "language": "python",
   "name": "python3"
  },
  "language_info": {
   "codemirror_mode": {
    "name": "ipython",
    "version": 3
   },
   "file_extension": ".py",
   "mimetype": "text/x-python",
   "name": "python",
   "nbconvert_exporter": "python",
   "pygments_lexer": "ipython3",
   "version": "3.12.3"
  }
 },
 "nbformat": 4,
 "nbformat_minor": 2
}
