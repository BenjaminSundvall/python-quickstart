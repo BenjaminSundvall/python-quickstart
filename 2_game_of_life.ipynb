{
 "cells": [
  {
   "cell_type": "markdown",
   "metadata": {},
   "source": [
    "# Labb 2: Game of Life\n",
    "Baserat på [TDDD86 labb 1](<https://www.ida.liu.se/~TDDD86/info/misc/labb1.pdf>)."
   ]
  },
  {
   "cell_type": "markdown",
   "metadata": {},
   "source": [
    "## Uppgift 1 - Rutnät\n",
    "\n",
    "Till att börja med behöver vi ett sätt att representera vårt rutnät. I vissa fall (som [här](https://playgameoflife.com)) är rutnätet oändligt stort, men i vårt fall börjar vi med ett rutnät av begränsad storlek.\n",
    "\n",
    "Enkaste sättet att representera ett rutnät är att göra en lista av listor på det här sättet:"
   ]
  },
  {
   "cell_type": "code",
   "execution_count": null,
   "metadata": {},
   "outputs": [],
   "source": [
    "grid = [[1, 2, 3], [4, 5, 6], [7, 8, 9]]    # Skapa ett 3x3-rutnät\n",
    "print(grid[0])  # Printa rad 0 i rutnätet (kom ihåg att Python är noll-indexerat, så det blir den första raden)\n",
    "\n",
    "print(grid[0][1])   # Printa rad 0, kolumn 1 i rutnätet\n",
    "\n",
    "\"\"\"\n",
    "grid[0][1]\n",
    "  v (evaluerar \"grid[0]\" först)\n",
    "([1, 2, 3])[1]\n",
    "  v (evaluerar sedan \"[1, 2, 3][1]\" som ger 2)\n",
    "2\n",
    "\"\"\""
   ]
  },
  {
   "cell_type": "markdown",
   "metadata": {},
   "source": [
    "Vi skapar våra rutnät baserat på innehållet i en fil. På det sättet kan man enkelt skapa flera olika starttillstånd (seeds) och välja vilket av dem man vill köra.\n",
    "\n",
    "Första raden i filen anger hur många rader och kolumner vårt rutnät ska ha. Resten av filen beskriver vad vi ska fylla vårt rutnät med.\n",
    "\n",
    "Innehållet i en fil skulle kunna se ut så här:\n",
    "```\n",
    "3 3\n",
    "---\n",
    "-X-\n",
    "---\n",
    "```\n",
    "vilket skulle resultera i ett rutnät som ser ut så här:\n",
    "```\n",
    "[['-', '-', '-'],\n",
    " ['-', 'X', '-'],\n",
    " ['-', '-', '-'],]\n",
    "```\n",
    "\n",
    "Jag har skapat en fil som heter [seed.txt](/seed.txt) som vi kan använda till att börja med.\n",
    "\n",
    "> **Uppgift:** Definiera en funktion `create_grid(filename)` som skapar och returnerar ett rutnät baserat på innehållet i en fil med namnet `filename` (som skickas in som argument till funktionen).\n",
    "\n",
    "> **Hint 1:** Dela upp problemet i 1) läs in data från filen, och 2) skapa rutnätet från datan vi läste in\n",
    "\n",
    "> **Hint 2:** Använd **for-loopar** för att gå igenom datan rad för rad, kolumn för kolumn. "
   ]
  },
  {
   "cell_type": "code",
   "execution_count": null,
   "metadata": {},
   "outputs": [],
   "source": [
    "def create_grid(filename):\n",
    "    ... # Skriv din kod här\n",
    "\n",
    "\n",
    "grid = create_grid(\"seed.txt\")  # Skapa ett grid från filen \"seed.txt\"\n",
    "print(grid)\n",
    "\n",
    "\"\"\"\n",
    "Resultatet borde se ut så här:\n",
    "[['-', '-', '-', '-', '-', '-', '-'],\n",
    " ['-', '-', '-', '-', '-', '-', '-'],\n",
    " ['-', '-', '-', '-', '-', '-', '-'],\n",
    " ['-', '-', 'X', 'X', 'X', '-', '-'],\n",
    " ['-', '-', '-', '-', '-', '-', '-'],\n",
    " ['-', '-', '-', '-', '-', '-', '-'],\n",
    " ['-', '-', '-', '-', '-', '-', '-']]\n",
    "\n",
    "\"\"\""
   ]
  },
  {
   "cell_type": "markdown",
   "metadata": {},
   "source": [
    "## Uppgift 2 - Snyggare interface\n",
    "\n",
    "Det blir lite rörigt att titta på rutnätet om det ser ut så där. För att göra det enklare att debugga (och göra spelet snyggare) gör vi en funktion som printar vårt grid på ett snyggt sätt.\n",
    "\n",
    "> **Uppgift:** Definiera en funktion `print_grid(grid)` som skriver ut ett grid på följande format:\n",
    "```\n",
    "-------\n",
    "-------\n",
    "-------\n",
    "--XXX--\n",
    "-------\n",
    "-------\n",
    "-------\n",
    "```"
   ]
  },
  {
   "cell_type": "code",
   "execution_count": null,
   "metadata": {},
   "outputs": [],
   "source": [
    "def print_grid(grid):\n",
    "    ... # Skriv din kod här\n",
    "\n",
    "\n",
    "grid = create_grid(\"seed.txt\")  # Skapa ett grid från filen \"seed.txt\"\n",
    "print_grid(grid)  # Skriv ut rutnätet med vår nya funktion"
   ]
  }
 ],
 "metadata": {
  "kernelspec": {
   "display_name": "Python 3",
   "language": "python",
   "name": "python3"
  },
  "language_info": {
   "codemirror_mode": {
    "name": "ipython",
    "version": 3
   },
   "file_extension": ".py",
   "mimetype": "text/x-python",
   "name": "python",
   "nbconvert_exporter": "python",
   "pygments_lexer": "ipython3",
   "version": "3.12.3"
  }
 },
 "nbformat": 4,
 "nbformat_minor": 2
}
