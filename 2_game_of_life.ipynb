{
 "cells": [
  {
   "cell_type": "markdown",
   "metadata": {},
   "source": [
    "# Labb 2: Game of Life\n",
    "Baserat på [TDDD86 labb 1](<https://www.ida.liu.se/~TDDD86/info/misc/labb1.pdf>)."
   ]
  },
  {
   "cell_type": "markdown",
   "metadata": {},
   "source": [
    "## Uppgift 1 - Rutnät\n",
    "\n",
    "Till att börja med behöver vi ett sätt att representera vårt rutnät. I vissa fall (som [här](https://playgameoflife.com)) är rutnätet oändligt stort, men i vårt fall börjar vi med ett rutnät av begränsad storlek.\n",
    "\n",
    "Enkaste sättet att representera ett rutnät är att göra en lista av listor på det här sättet:"
   ]
  },
  {
   "cell_type": "code",
   "execution_count": null,
   "metadata": {},
   "outputs": [],
   "source": [
    "grid = [[1, 2, 3], [4, 5, 6], [7, 8, 9]]    # Skapa ett 3x3-rutnät\n",
    "print(grid[0])  # Printa rad 0 i rutnätet (kom ihåg att Python är noll-indexerat, så det blir den första raden)\n",
    "\n",
    "print(grid[0][1])   # Printa rad 0, kolumn 1 i rutnätet\n",
    "\n",
    "\"\"\"\n",
    "grid[0][1]\n",
    "  v (evaluerar \"grid[0]\" först)\n",
    "([1, 2, 3])[1]\n",
    "  v (evaluerar sedan \"[1, 2, 3][1]\" som ger 2)\n",
    "2\n",
    "\"\"\""
   ]
  },
  {
   "cell_type": "markdown",
   "metadata": {},
   "source": [
    "Vi skapar våra rutnät baserat på innehållet i en fil. På det sättet kan man enkelt skapa flera olika starttillstånd (seeds) och välja vilket av dem man vill köra.\n",
    "\n",
    "Första raden i filen anger hur många rader och kolumner vårt rutnät ska ha. Resten av filen beskriver vad vi ska fylla vårt rutnät med.\n",
    "\n",
    "Innehållet i en fil skulle kunna se ut så här:\n",
    "```\n",
    "3 3\n",
    "---\n",
    "-X-\n",
    "---\n",
    "```\n",
    "vilket skulle resultera i ett rutnät som ser ut så här:\n",
    "```\n",
    "[['-', '-', '-'],\n",
    " ['-', 'X', '-'],\n",
    " ['-', '-', '-'],]\n",
    "```\n",
    "\n",
    "Jag har skapat en fil som heter [seed.txt](/seed.txt) som vi kan använda till att börja med.\n",
    "\n",
    "> **Uppgift:** Definiera en funktion `create_grid(filename)` som skapar och returnerar ett rutnät baserat på innehållet i en fil med namnet `filename` (som skickas in som argument till funktionen).\n",
    "\n",
    "> **Hint 1:** Dela upp problemet i 1) läs in data från filen, och 2) skapa rutnätet från datan vi läste in\n",
    "\n",
    "> **Hint 2:** Använd **for-loopar** för att gå igenom datan rad för rad, kolumn för kolumn. \n",
    "\n",
    "Användbara funktioner:\n",
    "- [open](https://docs.python.org/3/library/functions.html#open)\n",
    "- [file.readlines()](https://docs.python.org/3/tutorial/inputoutput.html#methods-of-file-objects)\n",
    "- [str.strip](https://docs.python.org/3/library/stdtypes.html#str.strip)\n"
   ]
  },
  {
   "cell_type": "code",
   "execution_count": null,
   "metadata": {},
   "outputs": [],
   "source": [
    "def create_grid(filename):\n",
    "    ... # Skriv kod för att läsa in filen här\n",
    "\n",
    "    grid = []   # Skapa vårt grid\n",
    "    ... # Skriv kod för att fylla vårt grid med data här\n",
    "\n",
    "    return grid"
   ]
  },
  {
   "cell_type": "code",
   "execution_count": null,
   "metadata": {},
   "outputs": [],
   "source": [
    "\"\"\"\n",
    "Testa create_grid!\n",
    "Resultatet borde se ut så här:\n",
    "[['-', '-', '-', '-', '-', '-', '-'],\n",
    " ['-', '-', '-', '-', '-', '-', '-'],\n",
    " ['-', '-', '-', '-', '-', '-', '-'],\n",
    " ['-', '-', 'X', 'X', 'X', '-', '-'],\n",
    " ['-', '-', '-', '-', '-', '-', '-'],\n",
    " ['-', '-', '-', '-', '-', '-', '-'],\n",
    " ['-', '-', '-', '-', '-', '-', '-']]\n",
    "\"\"\"\n",
    "\n",
    "grid = create_grid(\"seed.txt\")  # Skapa ett grid från filen \"seed.txt\"\n",
    "print(grid)"
   ]
  },
  {
   "cell_type": "markdown",
   "metadata": {},
   "source": [
    "## Uppgift 2 - Snyggare interface\n",
    "\n",
    "Det blir lite rörigt att titta på rutnätet om det ser ut så där. För att göra det enklare att debugga (och göra spelet snyggare) gör vi en funktion som printar vårt grid på ett snyggt sätt.\n",
    "\n",
    "> **Uppgift:** Definiera en funktion `print_grid(grid)` som skriver ut ett grid på följande format:\n",
    "```\n",
    "-------\n",
    "-------\n",
    "-------\n",
    "--XXX--\n",
    "-------\n",
    "-------\n",
    "-------\n",
    "```\n",
    "\n",
    "> **Hint:** Skriv ut rutnätet rad för rad."
   ]
  },
  {
   "cell_type": "code",
   "execution_count": null,
   "metadata": {},
   "outputs": [],
   "source": [
    "def print_grid(grid):\n",
    "    ... # Skriv din kod här\n"
   ]
  },
  {
   "cell_type": "code",
   "execution_count": null,
   "metadata": {},
   "outputs": [],
   "source": [
    "\"\"\"\n",
    "Testa print grid!\n",
    "Resultatet borde se ut så här:\n",
    "-------\n",
    "-------\n",
    "-------\n",
    "--XXX--\n",
    "-------\n",
    "-------\n",
    "-------\n",
    "\"\"\"\n",
    "\n",
    "grid = create_grid(\"seed.txt\")  # Skapa ett grid från filen \"seed.txt\"\n",
    "print_grid(grid)  # Skriv ut rutnätet med vår nya funktion"
   ]
  },
  {
   "cell_type": "markdown",
   "metadata": {},
   "source": [
    "## Uppgift 3 - Simulering\n",
    "\n",
    "Nu är de \"tråkiga\" delarna klara. Dags för själva simuleringen. Nu ska vi skriva en funktionen `step(grid)` som räknar ut nästa steg i simuleringen.\n",
    "\n",
    "Simuleringen startar med ett initialt mönster av celler på rutnätet och beräknar efterföljande\n",
    "generationer av celler enligt följande regler:\n",
    "- En position som har **noll eller en granne** kommer att vara tom i nästa generation. Om en cell fanns där\n",
    "så dör den.\n",
    "- En position med **två grannar** är stabil. Om den hade en cell innehåller den fortfarande en cell. Om den\n",
    "var tom fortsätter den att vara tom.\n",
    "- En position med **tre grannar** kommer att innehålla en cell i nästa generation. Om positionen var tom föds\n",
    "en ny cell. Om den för närvarande innehåller en cell, kvarstår cellen.\n",
    "- En position med **fyra eller fler grannar** kommer att vara tom i nästa generation. Om det finns en cell i\n",
    "den positionen dör den av överbefolkning.\n",
    "\n",
    "> **Uppgift:** För att räkna ut nästa tillstånd av en position behöver vi räkna hur många levande grannar den har. Skriv en funktion `count_neighbors(grid, x, y)` som returnerar hur många levande celler ('X') som finns runt positionen (x, y). Rutor på kanten behöver behandlas annorlunda så att man inte råkar titta på grannrutor utanför vårt grid."
   ]
  },
  {
   "cell_type": "code",
   "execution_count": null,
   "metadata": {},
   "outputs": [],
   "source": [
    "def count_neighbors(grid, row, col):\n",
    "    ... # Skriv din kod här"
   ]
  },
  {
   "cell_type": "code",
   "execution_count": null,
   "metadata": {},
   "outputs": [],
   "source": [
    "\"\"\"\n",
    "Testa print_grid!\n",
    "Resultatet borde se ut så här:\n",
    "3\n",
    "2\n",
    "1\n",
    "0\n",
    "0\n",
    "\"\"\"\n",
    "\n",
    "grid = create_grid(\"seed.txt\")  # Skapa ett grid från filen \"seed.txt\"\n",
    "print_grid(grid)\n",
    "\n",
    "print(count_neighbors(grid, 3, 2)) # 3 grannar\n",
    "print(count_neighbors(grid, 3, 3)) # 2 grannar (räknar inte sig själv som granne)\n",
    "print(count_neighbors(grid, 1, 2)) # 1 granne\n",
    "print(count_neighbors(grid, 0, 0)) # 0 grannar (den här kan krascha om vi inte kollar att vi är inom gränserna)\n",
    "print(count_neighbors(grid, 6, 6)) # 0 grannar (samma här)\n"
   ]
  },
  {
   "cell_type": "markdown",
   "metadata": {},
   "source": [
    "> **Uppgift:** Definiera en funktion `step(grid)` som returnerar en **kopia** av grid där simuleringen har tagit ett steg framåt enligt våra regler."
   ]
  },
  {
   "cell_type": "code",
   "execution_count": null,
   "metadata": {},
   "outputs": [],
   "source": [
    "def step(grid):\n",
    "    ... # Skriv din kod här\n"
   ]
  },
  {
   "cell_type": "code",
   "execution_count": null,
   "metadata": {},
   "outputs": [],
   "source": [
    "\"\"\"\n",
    "Testa step!\n",
    "Resultatet borde se ut så här:\n",
    "-------\n",
    "-------\n",
    "---X---\n",
    "---X---\n",
    "---X---\n",
    "-------\n",
    "-------\n",
    "\"\"\"\n",
    "\n",
    "grid = create_grid(\"seed.txt\")  # Skapa ett grid från filen \"seed.txt\"\n",
    "print_grid(grid)  # Skriv ut rutnätet\n",
    "new_grid = step(grid)  # Gör ett steg i simuleringen\n",
    "print_grid(new_grid)  # Skriv ut det nya tillståndet"
   ]
  },
  {
   "cell_type": "markdown",
   "metadata": {},
   "source": [
    "Nu fungerar förhoppningsvis vår simulering! Testa den genom att köra cellen nedan :)"
   ]
  },
  {
   "cell_type": "code",
   "execution_count": null,
   "metadata": {},
   "outputs": [],
   "source": [
    "import time\n",
    "\n",
    "grid = create_grid(\"seed.txt\")  # Skapa ett grid från filen \"seed.txt\"\n",
    "print(\"Loaded grid:\")\n",
    "print_grid(grid)  # Skriv ut rutnätet\n",
    "\n",
    "while True:\n",
    "    choice = input(\"Step (s), Animate (a), or quit (q)?\").lower()   # Fråga användaren om de vill göra ett steg, animera eller avsluta\n",
    "    if choice == \"s\":   # Ta ett steg\n",
    "        grid = step(grid)\n",
    "        print_grid(grid)\n",
    "    elif choice == \"a\": # Animera 10 steg\n",
    "        for i in range(10):\n",
    "            grid = step(grid)\n",
    "            print_grid(grid)\n",
    "            time.sleep(0.5)\n",
    "    elif choice == \"q\": # Avsluta programmet\n",
    "        print(\"Goodbye!\")\n",
    "        break\n",
    "    else:\n",
    "        print(\"Invalid choice, please try again.\")\n"
   ]
  }
 ],
 "metadata": {
  "kernelspec": {
   "display_name": "Python 3",
   "language": "python",
   "name": "python3"
  },
  "language_info": {
   "codemirror_mode": {
    "name": "ipython",
    "version": 3
   },
   "file_extension": ".py",
   "mimetype": "text/x-python",
   "name": "python",
   "nbconvert_exporter": "python",
   "pygments_lexer": "ipython3",
   "version": "3.12.3"
  }
 },
 "nbformat": 4,
 "nbformat_minor": 2
}
